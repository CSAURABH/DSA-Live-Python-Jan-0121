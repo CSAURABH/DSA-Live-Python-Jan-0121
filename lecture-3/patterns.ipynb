{
 "cells": [
  {
   "cell_type": "code",
   "execution_count": null,
   "metadata": {},
   "outputs": [],
   "source": []
  },
  {
   "cell_type": "code",
   "execution_count": 2,
   "metadata": {},
   "outputs": [],
   "source": [
    "a = 7"
   ]
  },
  {
   "cell_type": "code",
   "execution_count": 3,
   "metadata": {},
   "outputs": [
    {
     "data": {
      "text/plain": [
       "7"
      ]
     },
     "execution_count": 3,
     "metadata": {},
     "output_type": "execute_result"
    }
   ],
   "source": [
    "a"
   ]
  },
  {
   "cell_type": "markdown",
   "metadata": {},
   "source": [
    "![This is a panda](https://i.pinimg.com/originals/e0/3d/5b/e03d5b812b2734826f76960eca5b5541.jpg)"
   ]
  },
  {
   "cell_type": "markdown",
   "metadata": {},
   "source": [
    "<h1>Hello</h1>"
   ]
  },
  {
   "cell_type": "code",
   "execution_count": 4,
   "metadata": {},
   "outputs": [],
   "source": [
    "a = 6"
   ]
  },
  {
   "cell_type": "code",
   "execution_count": 12,
   "metadata": {},
   "outputs": [],
   "source": [
    "c = a"
   ]
  },
  {
   "cell_type": "code",
   "execution_count": 11,
   "metadata": {},
   "outputs": [
    {
     "name": "stdout",
     "output_type": "stream",
     "text": [
      "6\n"
     ]
    }
   ],
   "source": [
    "print(a)"
   ]
  },
  {
   "cell_type": "code",
   "execution_count": 13,
   "metadata": {},
   "outputs": [
    {
     "data": {
      "text/plain": [
       "True"
      ]
     },
     "execution_count": 13,
     "metadata": {},
     "output_type": "execute_result"
    }
   ],
   "source": [
    "True"
   ]
  },
  {
   "cell_type": "code",
   "execution_count": 14,
   "metadata": {},
   "outputs": [
    {
     "data": {
      "text/plain": [
       "False"
      ]
     },
     "execution_count": 14,
     "metadata": {},
     "output_type": "execute_result"
    }
   ],
   "source": [
    "False"
   ]
  },
  {
   "cell_type": "code",
   "execution_count": 17,
   "metadata": {},
   "outputs": [
    {
     "data": {
      "text/plain": [
       "False"
      ]
     },
     "execution_count": 17,
     "metadata": {},
     "output_type": "execute_result"
    }
   ],
   "source": [
    "not \"h\""
   ]
  },
  {
   "cell_type": "code",
   "execution_count": 18,
   "metadata": {},
   "outputs": [
    {
     "data": {
      "text/plain": [
       "True"
      ]
     },
     "execution_count": 18,
     "metadata": {},
     "output_type": "execute_result"
    }
   ],
   "source": [
    "not 0"
   ]
  },
  {
   "cell_type": "code",
   "execution_count": 19,
   "metadata": {},
   "outputs": [
    {
     "data": {
      "text/plain": [
       "False"
      ]
     },
     "execution_count": 19,
     "metadata": {},
     "output_type": "execute_result"
    }
   ],
   "source": [
    "not 100"
   ]
  },
  {
   "cell_type": "code",
   "execution_count": 20,
   "metadata": {},
   "outputs": [
    {
     "data": {
      "text/plain": [
       "False"
      ]
     },
     "execution_count": 20,
     "metadata": {},
     "output_type": "execute_result"
    }
   ],
   "source": [
    "not -44"
   ]
  },
  {
   "cell_type": "code",
   "execution_count": 21,
   "metadata": {},
   "outputs": [
    {
     "data": {
      "text/plain": [
       "''"
      ]
     },
     "execution_count": 21,
     "metadata": {},
     "output_type": "execute_result"
    }
   ],
   "source": [
    "\"\""
   ]
  },
  {
   "cell_type": "code",
   "execution_count": 35,
   "metadata": {},
   "outputs": [],
   "source": [
    "year = 204"
   ]
  },
  {
   "cell_type": "code",
   "execution_count": 40,
   "metadata": {},
   "outputs": [
    {
     "name": "stdout",
     "output_type": "stream",
     "text": [
      "Leap Year\n",
      "Outer\n"
     ]
    }
   ],
   "source": [
    "if (year % 4) == 0:\n",
    "    print(\"Leap Year\")\n",
    "\n",
    "print(\"Outer\")"
   ]
  },
  {
   "cell_type": "code",
   "execution_count": 41,
   "metadata": {},
   "outputs": [
    {
     "name": "stdout",
     "output_type": "stream",
     "text": [
      "Leap Year\n"
     ]
    }
   ],
   "source": [
    "if (year % 4) == 0:\n",
    "    print(\"Leap Year\")\n",
    "else:\n",
    "    print(\"Not a Leap Year\")\n",
    "    "
   ]
  },
  {
   "cell_type": "code",
   "execution_count": 44,
   "metadata": {},
   "outputs": [
    {
     "name": "stdout",
     "output_type": "stream",
     "text": [
      "Special Year\n"
     ]
    }
   ],
   "source": [
    "year = 66\n",
    "\n",
    "if (year % 4) == 0:\n",
    "    print(\"Leap Year\")\n",
    "elif (year % 33) == 0:\n",
    "    print(\"Special Year\")\n",
    "else:\n",
    "    print(\"Not a Leap or Special Year\")"
   ]
  },
  {
   "cell_type": "code",
   "execution_count": 49,
   "metadata": {},
   "outputs": [
    {
     "name": "stdout",
     "output_type": "stream",
     "text": [
      "clap clap clap clap clap clap clap clap clap clap "
     ]
    }
   ],
   "source": [
    "clap = 0\n",
    "\n",
    "while clap < 10:\n",
    "    print(\"clap\", end=\" \")\n",
    "    clap += 1\n"
   ]
  },
  {
   "cell_type": "code",
   "execution_count": 52,
   "metadata": {},
   "outputs": [
    {
     "name": "stdout",
     "output_type": "stream",
     "text": [
      "* * * * * * * * * * \n",
      "* * * * * * * * * * \n",
      "* * * * * * * * * * \n",
      "* * * * * * * * * * \n",
      "* * * * * * * * * * \n",
      "* * * * * * * * * * \n",
      "* * * * * * * * * * \n",
      "* * * * * * * * * * \n",
      "* * * * * * * * * * \n",
      "* * * * * * * * * * \n"
     ]
    }
   ],
   "source": [
    "reps = 0\n",
    "while reps < 10:\n",
    "    clap = 0\n",
    "    while clap < 10:\n",
    "        print(\"*\", end=\" \")\n",
    "        clap += 1\n",
    "    \n",
    "    print()\n",
    "    reps += 1\n"
   ]
  },
  {
   "cell_type": "code",
   "execution_count": 53,
   "metadata": {},
   "outputs": [
    {
     "name": "stdout",
     "output_type": "stream",
     "text": [
      "* * * * * * * * * * \n",
      "* * * * * * * * * * \n",
      "* * * * * * * * * * \n",
      "* * * * * * * * * * \n",
      "* * * * * * * * * * \n",
      "* * * * * * * * * * \n",
      "* * * * * * * * * * \n",
      "* * * * * * * * * * \n",
      "* * * * * * * * * * \n",
      "* * * * * * * * * * \n"
     ]
    }
   ],
   "source": [
    "n = 10\n",
    "\n",
    "row = 0\n",
    "while row < n:\n",
    "    col = 0\n",
    "    while col < n:\n",
    "        print(\"*\", end=\" \")\n",
    "        col += 1\n",
    "    \n",
    "    print()\n",
    "    row += 1"
   ]
  },
  {
   "cell_type": "code",
   "execution_count": 1,
   "metadata": {},
   "outputs": [
    {
     "name": "stdout",
     "output_type": "stream",
     "text": [
      "Hey Hello\n"
     ]
    }
   ],
   "source": [
    "print(\"Hey\", \"Hello\")"
   ]
  },
  {
   "cell_type": "code",
   "execution_count": 4,
   "metadata": {},
   "outputs": [
    {
     "name": "stdout",
     "output_type": "stream",
     "text": [
      "Hey--Hello--55\n"
     ]
    }
   ],
   "source": [
    "print(\"Hey\", \"Hello\", 55, sep=\"--\")"
   ]
  },
  {
   "cell_type": "code",
   "execution_count": 5,
   "metadata": {},
   "outputs": [
    {
     "name": "stdout",
     "output_type": "stream",
     "text": [
      "* * * * * * * * * * \n",
      "* * * * * * * * * * \n",
      "* * * * * * * * * * \n",
      "* * * * * * * * * * \n",
      "* * * * * * * * * * \n",
      "* * * * * * * * * * \n",
      "* * * * * * * * * * \n",
      "* * * * * * * * * * \n",
      "* * * * * * * * * * \n",
      "* * * * * * * * * * \n"
     ]
    }
   ],
   "source": [
    "n = 10\n",
    "\n",
    "row = 0\n",
    "while row < n:\n",
    "    col = 0\n",
    "    while col < n:\n",
    "        print(\"*\", end=\" \")\n",
    "        col += 1\n",
    "    \n",
    "    print()\n",
    "    row += 1"
   ]
  },
  {
   "cell_type": "code",
   "execution_count": 9,
   "metadata": {},
   "outputs": [
    {
     "name": "stdout",
     "output_type": "stream",
     "text": [
      "* \n",
      "* * \n",
      "* * * \n",
      "* * * * \n",
      "* * * * * \n"
     ]
    }
   ],
   "source": [
    "n = 5\n",
    "\n",
    "row = 0\n",
    "while row < n:\n",
    "    col = 0\n",
    "    while col <= row:\n",
    "        print(\"*\", end=\" \")\n",
    "        col += 1\n",
    "    \n",
    "    print()\n",
    "    row += 1"
   ]
  },
  {
   "cell_type": "code",
   "execution_count": 11,
   "metadata": {},
   "outputs": [
    {
     "name": "stdout",
     "output_type": "stream",
     "text": [
      "* * * * * \n",
      "* * * * \n",
      "* * * \n",
      "* * \n",
      "* \n"
     ]
    }
   ],
   "source": [
    "n = 5\n",
    "\n",
    "row = 0\n",
    "while row < n:\n",
    "    col = 0\n",
    "    while col < n - row:\n",
    "        print(\"*\", end=\" \")\n",
    "        col += 1\n",
    "    \n",
    "    print()\n",
    "    row += 1"
   ]
  },
  {
   "cell_type": "code",
   "execution_count": 13,
   "metadata": {},
   "outputs": [
    {
     "name": "stdout",
     "output_type": "stream",
     "text": [
      "* * * * * \n",
      "* * * * \n",
      "* * * \n",
      "* * \n",
      "* \n",
      "* * \n",
      "* * * \n",
      "* * * * \n",
      "* * * * * \n"
     ]
    }
   ],
   "source": [
    "n = 5\n",
    "\n",
    "row_mirror = 0\n",
    "row = 0\n",
    "while row_mirror < 2 * n - 1:\n",
    "    col = 0\n",
    "    while col < n - row:\n",
    "        print(\"*\", end=\" \")\n",
    "        col += 1\n",
    "    \n",
    "    print()\n",
    "    \n",
    "    if row_mirror < n - 1:\n",
    "        row += 1\n",
    "    else:\n",
    "        row -= 1\n",
    "    \n",
    "    row_mirror += 1"
   ]
  },
  {
   "cell_type": "code",
   "execution_count": 15,
   "metadata": {},
   "outputs": [
    {
     "name": "stdout",
     "output_type": "stream",
     "text": [
      "* * * * * \n",
      "* * * *   \n",
      "* * *     \n",
      "* *       \n",
      "*         \n"
     ]
    }
   ],
   "source": [
    "n = 5\n",
    "\n",
    "row = 0\n",
    "while row < n:\n",
    "    col = 0\n",
    "    while col < n:\n",
    "        if col < n - row:\n",
    "            print(\"*\", end=\" \")\n",
    "        else:\n",
    "            print(\" \", end=\" \")\n",
    "        col += 1\n",
    "    \n",
    "    print()\n",
    "    row += 1"
   ]
  },
  {
   "cell_type": "code",
   "execution_count": 16,
   "metadata": {},
   "outputs": [
    {
     "name": "stdout",
     "output_type": "stream",
     "text": [
      "* * * * * * * * * \n",
      "* * * *   * * * * \n",
      "* * *       * * * \n",
      "* *           * * \n",
      "*               * \n"
     ]
    }
   ],
   "source": [
    "n = 5\n",
    "\n",
    "row = 0\n",
    "while row < n:\n",
    "    col_mirror = 0\n",
    "    col = 0\n",
    "    while col_mirror < 2 * n - 1:\n",
    "        if col < n - row:\n",
    "            print(\"*\", end=\" \")\n",
    "        else:\n",
    "            print(\" \", end=\" \")\n",
    "            \n",
    "        if col_mirror < n-1:\n",
    "            col += 1\n",
    "        else:\n",
    "            col -= 1\n",
    "        \n",
    "        col_mirror += 1\n",
    "    \n",
    "    print()\n",
    "    row += 1"
   ]
  },
  {
   "cell_type": "code",
   "execution_count": 17,
   "metadata": {},
   "outputs": [
    {
     "name": "stdout",
     "output_type": "stream",
     "text": [
      "* * * * * * * * * \n",
      "* * * *   * * * * \n",
      "* * *       * * * \n",
      "* *           * * \n",
      "*               * \n",
      "* *           * * \n",
      "* * *       * * * \n",
      "* * * *   * * * * \n",
      "* * * * * * * * * \n"
     ]
    }
   ],
   "source": [
    "n = 5\n",
    "\n",
    "row_mirror = 0\n",
    "row = 0\n",
    "while row_mirror < 2 * n - 1:\n",
    "    col_mirror = 0\n",
    "    col = 0\n",
    "    while col_mirror < 2 * n - 1:\n",
    "        if col < n - row:\n",
    "            print(\"*\", end=\" \")\n",
    "        else:\n",
    "            print(\" \", end=\" \")\n",
    "            \n",
    "        if col_mirror < n-1:\n",
    "            col += 1\n",
    "        else:\n",
    "            col -= 1\n",
    "        \n",
    "        col_mirror += 1\n",
    "    \n",
    "    print()\n",
    "    \n",
    "    if row_mirror < n - 1:\n",
    "        row += 1\n",
    "    else:\n",
    "        row -= 1\n",
    "    \n",
    "    row_mirror += 1"
   ]
  },
  {
   "cell_type": "code",
   "execution_count": 19,
   "metadata": {},
   "outputs": [
    {
     "name": "stdout",
     "output_type": "stream",
     "text": [
      "        *         \n",
      "      * * *       \n",
      "    * * * * *     \n",
      "  * * * * * * *   \n",
      "* * * * * * * * * \n",
      "  * * * * * * *   \n",
      "    * * * * *     \n",
      "      * * *       \n",
      "        *         \n"
     ]
    }
   ],
   "source": [
    "n = 5\n",
    "\n",
    "row_mirror = 0\n",
    "row = 0\n",
    "while row_mirror < 2 * n - 1:\n",
    "    col_mirror = 0\n",
    "    col = 0\n",
    "    while col_mirror < 2 * n - 1:\n",
    "        if col < n - row - 1:\n",
    "            print(\" \", end=\" \")\n",
    "        else:\n",
    "            print(\"*\", end=\" \")\n",
    "            \n",
    "        if col_mirror < n-1:\n",
    "            col += 1\n",
    "        else:\n",
    "            col -= 1\n",
    "        \n",
    "        col_mirror += 1\n",
    "    \n",
    "    print()\n",
    "    \n",
    "    if row_mirror < n - 1:\n",
    "        row += 1\n",
    "    else:\n",
    "        row -= 1\n",
    "    \n",
    "    row_mirror += 1"
   ]
  },
  {
   "cell_type": "code",
   "execution_count": 21,
   "metadata": {},
   "outputs": [
    {
     "name": "stdout",
     "output_type": "stream",
     "text": [
      "        5         \n",
      "      4 5 4       \n",
      "    3 4 5 4 3     \n",
      "  2 3 4 5 4 3 2   \n",
      "1 2 3 4 5 4 3 2 1 \n",
      "  2 3 4 5 4 3 2   \n",
      "    3 4 5 4 3     \n",
      "      4 5 4       \n",
      "        5         \n"
     ]
    }
   ],
   "source": [
    "n = 5\n",
    "\n",
    "row_mirror = 0\n",
    "row = 0\n",
    "while row_mirror < 2 * n - 1:\n",
    "    col_mirror = 0\n",
    "    col = 0\n",
    "    while col_mirror < 2 * n - 1:\n",
    "        if col < n - row - 1:\n",
    "            print(\" \", end=\" \")\n",
    "        else:\n",
    "            print(col+1, end=\" \")\n",
    "            \n",
    "        if col_mirror < n-1:\n",
    "            col += 1\n",
    "        else:\n",
    "            col -= 1\n",
    "        \n",
    "        col_mirror += 1\n",
    "    \n",
    "    print()\n",
    "    \n",
    "    if row_mirror < n - 1:\n",
    "        row += 1\n",
    "    else:\n",
    "        row -= 1\n",
    "    \n",
    "    row_mirror += 1"
   ]
  },
  {
   "cell_type": "code",
   "execution_count": 23,
   "metadata": {},
   "outputs": [
    {
     "name": "stdout",
     "output_type": "stream",
     "text": [
      "        1         \n",
      "      1 0 1       \n",
      "    1 0 0 0 1     \n",
      "  1 0 0 0 0 0 1   \n",
      "1 0 0 0 0 0 0 0 1 \n",
      "  1 0 0 0 0 0 1   \n",
      "    1 0 0 0 1     \n",
      "      1 0 1       \n",
      "        1         \n"
     ]
    }
   ],
   "source": [
    "n = 5\n",
    "\n",
    "row_mirror = 0\n",
    "row = 0\n",
    "while row_mirror < 2 * n - 1:\n",
    "    col_mirror = 0\n",
    "    col = 0\n",
    "    while col_mirror < 2 * n - 1:\n",
    "        if col < n - row - 1:\n",
    "            print(\" \", end=\" \")\n",
    "        else:\n",
    "            if col == (n-row-1):\n",
    "                print(\"1\", end=\" \")\n",
    "            else:\n",
    "                print(\"0\", end=\" \")\n",
    "            \n",
    "        if col_mirror < n-1:\n",
    "            col += 1\n",
    "        else:\n",
    "            col -= 1\n",
    "        \n",
    "        col_mirror += 1\n",
    "    \n",
    "    print()\n",
    "    \n",
    "    if row_mirror < n - 1:\n",
    "        row += 1\n",
    "    else:\n",
    "        row -= 1\n",
    "    \n",
    "    row_mirror += 1"
   ]
  },
  {
   "cell_type": "code",
   "execution_count": null,
   "metadata": {},
   "outputs": [],
   "source": []
  }
 ],
 "metadata": {
  "kernelspec": {
   "display_name": "Python 3",
   "language": "python",
   "name": "python3"
  },
  "language_info": {
   "codemirror_mode": {
    "name": "ipython",
    "version": 3
   },
   "file_extension": ".py",
   "mimetype": "text/x-python",
   "name": "python",
   "nbconvert_exporter": "python",
   "pygments_lexer": "ipython3",
   "version": "3.7.7"
  }
 },
 "nbformat": 4,
 "nbformat_minor": 4
}
